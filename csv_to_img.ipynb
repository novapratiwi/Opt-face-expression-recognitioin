{
 "cells": [
  {
   "cell_type": "code",
   "execution_count": 20,
   "metadata": {},
   "outputs": [],
   "source": [
    "import numpy as np\n",
    "import matplotlib.pyplot as plt"
   ]
  },
  {
   "cell_type": "code",
   "execution_count": 1,
   "metadata": {},
   "outputs": [],
   "source": [
    "import pandas as pd\n",
    "data = pd.read_csv('../dataset-FER2013/ferc2013-extract/fer2013.csv')"
   ]
  },
  {
   "cell_type": "code",
   "execution_count": 14,
   "metadata": {},
   "outputs": [],
   "source": [
    "def prepare_data(data):\n",
    "    \"\"\" Prepare data for modeling \n",
    "        input: data frame with labels und pixel data\n",
    "        output: image and label array \"\"\"\n",
    "    \n",
    "    image_array = np.zeros(shape=(len(data), 48, 48))\n",
    "    image_label = np.array(list(map(int, data['emotion'])))\n",
    "    \n",
    "    for i, row in enumerate(data.index):\n",
    "        image = np.fromstring(data.loc[row, 'pixels'], dtype=int, sep=' ')\n",
    "        image = np.reshape(image, (48, 48))\n",
    "        image_array[i] = image\n",
    "        \n",
    "    return image_array, image_label\n",
    "  \n",
    "def plot_examples(label=0):\n",
    "    fig, axs = plt.subplots(1, 5, figsize=(25, 12))\n",
    "    fig.subplots_adjust(hspace = .2, wspace=.2)\n",
    "    axs = axs.ravel()\n",
    "    for i in range(5):\n",
    "        idx = data[data['emotion']==label].index[i]\n",
    "        axs[i].imshow(train_images[idx][:,:,0], cmap='gray')\n",
    "        axs[i].set_title(emotions[train_labels[idx].argmax()])\n",
    "        axs[i].set_xticklabels([])\n",
    "        axs[i].set_yticklabels([])\n",
    "\n",
    "def plot_all_emotions():\n",
    "    fig, axs = plt.subplots(1, 7, figsize=(30, 12))\n",
    "    fig.subplots_adjust(hspace = .2, wspace=.2)\n",
    "    axs = axs.ravel()\n",
    "    for i in range(7):\n",
    "        idx = data[data['emotion']==i].index[i]\n",
    "        axs[i].imshow(train_images[idx][:,:,0], cmap='gray')\n",
    "        axs[i].set_title(emotions[train_labels[idx].argmax()])\n",
    "        axs[i].set_xticklabels([])\n",
    "        axs[i].set_yticklabels([])\n",
    "\n",
    "def plot_image_and_emotion(test_image_array, test_image_label, pred_test_labels, image_number):\n",
    "    \"\"\" Function to plot the image and compare the prediction results with the label \"\"\"\n",
    "    \n",
    "    fig, axs = plt.subplots(1, 2, figsize=(12, 6), sharey=False)\n",
    "    \n",
    "    bar_label = emotions.values()\n",
    "    \n",
    "    axs[0].imshow(test_image_array[image_number], 'gray')\n",
    "    axs[0].set_title(emotions[test_image_label[image_number]])\n",
    "    \n",
    "    axs[1].bar(bar_label, pred_test_labels[image_number], color='orange', alpha=0.7)\n",
    "    axs[1].grid()\n",
    "    \n",
    "    plt.show()\n",
    "\n",
    "def plot_compare_distributions(array1, array2, title1='', title2=''):\n",
    "    df_array1 = pd.DataFrame()\n",
    "    df_array2 = pd.DataFrame()\n",
    "    df_array1['emotion'] = array1.argmax(axis=1)\n",
    "    df_array2['emotion'] = array2.argmax(axis=1)\n",
    "    \n",
    "    fig, axs = plt.subplots(1, 2, figsize=(12, 6), sharey=False)\n",
    "    x = emotions.values()\n",
    "    \n",
    "    y = df_array1['emotion'].value_counts()\n",
    "    keys_missed = list(set(emotions.keys()).difference(set(y.keys())))\n",
    "    for key_missed in keys_missed:\n",
    "        y[key_missed] = 0\n",
    "    axs[0].bar(x, y.sort_index(), color='orange')\n",
    "    axs[0].set_title(title1)\n",
    "    axs[0].grid()\n",
    "    \n",
    "    y = df_array2['emotion'].value_counts()\n",
    "    keys_missed = list(set(emotions.keys()).difference(set(y.keys())))\n",
    "    for key_missed in keys_missed:\n",
    "        y[key_missed] = 0\n",
    "    axs[1].bar(x, y.sort_index())\n",
    "    axs[1].set_title(title2)\n",
    "    axs[1].grid()\n",
    "    \n",
    "    plt.show()"
   ]
  },
  {
   "cell_type": "code",
   "execution_count": 9,
   "metadata": {},
   "outputs": [],
   "source": [
    "emotions = {0: 'Angry', 1: 'Disgust', 2: 'Fear', 3: 'Happy', 4: 'Sad', 5: 'Surprise', 6: 'Neutral'}"
   ]
  },
  {
   "cell_type": "code",
   "execution_count": 28,
   "metadata": {},
   "outputs": [
    {
     "data": {
      "text/plain": [
       "array([0, 1, 4, ..., 0, 3, 2])"
      ]
     },
     "execution_count": 28,
     "metadata": {},
     "output_type": "execute_result"
    }
   ],
   "source": [
    "train_image_array, train_image_label = prepare_data(data[data['Usage']=='Training'])\n",
    "val_image_array, val_image_label = prepare_data(data[data['Usage']=='PrivateTest'])\n",
    "test_image_array, test_image_label = prepare_data(data[data['Usage']=='PublicTest'])\n",
    "np.append(test_image_array, val_image_array)\n",
    "np.append(test_image_label, val_image_label)"
   ]
  },
  {
   "cell_type": "code",
   "execution_count": 29,
   "metadata": {},
   "outputs": [
    {
     "data": {
      "text/plain": [
       "array([0, 1, 4, ..., 4, 4, 4])"
      ]
     },
     "execution_count": 29,
     "metadata": {},
     "output_type": "execute_result"
    }
   ],
   "source": [
    "test_image_label"
   ]
  },
  {
   "cell_type": "code",
   "execution_count": 30,
   "metadata": {},
   "outputs": [],
   "source": [
    "train_images = train_image_array.reshape((train_image_array.shape[0], 48, 48, 1))\n",
    "train_images = train_images.astype('float32')/255\n",
    "\n",
    "test_images = test_image_array.reshape((test_image_array.shape[0], 48, 48, 1))\n",
    "test_images = test_images.astype('float32')/255"
   ]
  },
  {
   "cell_type": "code",
   "execution_count": 31,
   "metadata": {},
   "outputs": [],
   "source": [
    "from tensorflow.keras.utils import to_categorical\n",
    "\n",
    "train_labels = to_categorical(train_image_label)\n",
    "test_labels = to_categorical(test_image_label)\n"
   ]
  },
  {
   "cell_type": "code",
   "execution_count": 34,
   "metadata": {},
   "outputs": [
    {
     "data": {
      "image/png": "[encoded data removed]",
      "text/plain": [
       "<Figure size 864x432 with 2 Axes>"
      ]
     },
     "metadata": {
      "needs_background": "light"
     },
     "output_type": "display_data"
    }
   ],
   "source": [
    "plot_compare_distributions(train_labels, test_labels, title1='Data Training', title2='Data Testing')"
   ]
  },
  {
   "cell_type": "code",
   "execution_count": 32,
   "metadata": {},
   "outputs": [
    {
     "name": "stderr",
     "output_type": "stream",
     "text": [
      "C:\\Users\\ACER\\AppData\\Local\\Temp\\ipykernel_8352\\3544583789.py:4: FutureWarning: The frame.append method is deprecated and will be removed from pandas in a future version. Use pandas.concat instead.\n",
      "  data_testing = data_publ_test.append(data_priv_test)\n"
     ]
    }
   ],
   "source": [
    "data_publ_test = data[data[\"Usage\"]==\"PublicTest\"]\n",
    "data_priv_test = data[data[\"Usage\"]==\"PrivateTest\"]\n",
    "\n",
    "data_testing = data_publ_test.append(data_priv_test)\n",
    "data_training = data[data[\"Usage\"]==\"Training\"]"
   ]
  },
  {
   "cell_type": "code",
   "execution_count": 3,
   "metadata": {},
   "outputs": [
    {
     "data": {
      "text/plain": [
       "3    7215\n",
       "6    4965\n",
       "4    4830\n",
       "2    4097\n",
       "0    3995\n",
       "5    3171\n",
       "1     436\n",
       "Name: emotion, dtype: int64"
      ]
     },
     "execution_count": 3,
     "metadata": {},
     "output_type": "execute_result"
    }
   ],
   "source": [
    "data_training.emotion.value_counts()"
   ]
  },
  {
   "cell_type": "code",
   "execution_count": 4,
   "metadata": {},
   "outputs": [
    {
     "data": {
      "text/plain": [
       "3    1774\n",
       "4    1247\n",
       "6    1233\n",
       "2    1024\n",
       "0     958\n",
       "5     831\n",
       "1     111\n",
       "Name: emotion, dtype: int64"
      ]
     },
     "execution_count": 4,
     "metadata": {},
     "output_type": "execute_result"
    }
   ],
   "source": [
    "data_testing.emotion.value_counts()"
   ]
  },
  {
   "cell_type": "code",
   "execution_count": 5,
   "metadata": {},
   "outputs": [
    {
     "ename": "NameError",
     "evalue": "name 'train_angry' is not defined",
     "output_type": "error",
     "traceback": [
      "\u001b[1;31m---------------------------------------------------------------------------\u001b[0m",
      "\u001b[1;31mNameError\u001b[0m                                 Traceback (most recent call last)",
      "Cell \u001b[1;32mIn[5], line 1\u001b[0m\n\u001b[1;32m----> 1\u001b[0m \u001b[39mprint\u001b[39m(train_angry\u001b[39m.\u001b[39memotion\u001b[39m.\u001b[39mvalue_counts())\n\u001b[0;32m      2\u001b[0m \u001b[39mprint\u001b[39m(train_disgust\u001b[39m.\u001b[39memotion\u001b[39m.\u001b[39mvalue_counts())\n\u001b[0;32m      3\u001b[0m \u001b[39mprint\u001b[39m(train_fear\u001b[39m.\u001b[39memotion\u001b[39m.\u001b[39mvalue_counts())\n",
      "\u001b[1;31mNameError\u001b[0m: name 'train_angry' is not defined"
     ]
    }
   ],
   "source": [
    "print(train_angry.emotion.value_counts())\n",
    "print(train_disgust.emotion.value_counts())\n",
    "print(train_fear.emotion.value_counts())\n",
    "print(train_happy.emotion.value_counts())\n",
    "print(train_neutral.emotion.value_counts())\n",
    "print(train_sad.emotion.value_counts())\n",
    "print(train_surprise.emotion.value_counts())"
   ]
  },
  {
   "cell_type": "code",
   "execution_count": null,
   "metadata": {},
   "outputs": [],
   "source": [
    "print(train_angry.emotion.value_counts())\n",
    "print(train_disgust.emotion.value_counts())\n",
    "print(train_fear.emotion.value_counts())\n",
    "print(train_happy.emotion.value_counts())\n",
    "print(train_neutral.emotion.value_counts())\n",
    "print(train_sad.emotion.value_counts())\n",
    "print(train_surprise.emotion.value_counts())"
   ]
  },
  {
   "cell_type": "code",
   "execution_count": 6,
   "metadata": {},
   "outputs": [
    {
     "name": "stderr",
     "output_type": "stream",
     "text": [
      "C:\\Users\\ACER\\AppData\\Local\\Temp\\ipykernel_8352\\2862922807.py:1: UserWarning: Boolean Series key will be reindexed to match DataFrame index.\n",
      "  train_angry = data_training[data[\"emotion\"]==0]\n",
      "C:\\Users\\ACER\\AppData\\Local\\Temp\\ipykernel_8352\\2862922807.py:2: UserWarning: Boolean Series key will be reindexed to match DataFrame index.\n",
      "  train_disgust = data_training[data[\"emotion\"]==1]\n",
      "C:\\Users\\ACER\\AppData\\Local\\Temp\\ipykernel_8352\\2862922807.py:3: UserWarning: Boolean Series key will be reindexed to match DataFrame index.\n",
      "  train_fear = data_training[data[\"emotion\"]==2]\n",
      "C:\\Users\\ACER\\AppData\\Local\\Temp\\ipykernel_8352\\2862922807.py:4: UserWarning: Boolean Series key will be reindexed to match DataFrame index.\n",
      "  train_happy = data_training[data[\"emotion\"]==3]\n",
      "C:\\Users\\ACER\\AppData\\Local\\Temp\\ipykernel_8352\\2862922807.py:5: UserWarning: Boolean Series key will be reindexed to match DataFrame index.\n",
      "  train_sad = data_training[data[\"emotion\"]==4]\n",
      "C:\\Users\\ACER\\AppData\\Local\\Temp\\ipykernel_8352\\2862922807.py:6: UserWarning: Boolean Series key will be reindexed to match DataFrame index.\n",
      "  train_surprise = data_training[data[\"emotion\"]==5]\n",
      "C:\\Users\\ACER\\AppData\\Local\\Temp\\ipykernel_8352\\2862922807.py:7: UserWarning: Boolean Series key will be reindexed to match DataFrame index.\n",
      "  train_neutral = data_training[data[\"emotion\"]==6]\n",
      "C:\\Users\\ACER\\AppData\\Local\\Temp\\ipykernel_8352\\2862922807.py:9: UserWarning: Boolean Series key will be reindexed to match DataFrame index.\n",
      "  test_angry = data_testing[data[\"emotion\"]==0]\n",
      "C:\\Users\\ACER\\AppData\\Local\\Temp\\ipykernel_8352\\2862922807.py:10: UserWarning: Boolean Series key will be reindexed to match DataFrame index.\n",
      "  test_disgust = data_testing[data[\"emotion\"]==1]\n",
      "C:\\Users\\ACER\\AppData\\Local\\Temp\\ipykernel_8352\\2862922807.py:11: UserWarning: Boolean Series key will be reindexed to match DataFrame index.\n",
      "  test_fear = data_testing[data[\"emotion\"]==2]\n",
      "C:\\Users\\ACER\\AppData\\Local\\Temp\\ipykernel_8352\\2862922807.py:12: UserWarning: Boolean Series key will be reindexed to match DataFrame index.\n",
      "  test_happy = data_testing[data[\"emotion\"]==3]\n",
      "C:\\Users\\ACER\\AppData\\Local\\Temp\\ipykernel_8352\\2862922807.py:13: UserWarning: Boolean Series key will be reindexed to match DataFrame index.\n",
      "  test_sad = data_testing[data[\"emotion\"]==4]\n",
      "C:\\Users\\ACER\\AppData\\Local\\Temp\\ipykernel_8352\\2862922807.py:14: UserWarning: Boolean Series key will be reindexed to match DataFrame index.\n",
      "  test_surprise = data_testing[data[\"emotion\"]==5]\n",
      "C:\\Users\\ACER\\AppData\\Local\\Temp\\ipykernel_8352\\2862922807.py:15: UserWarning: Boolean Series key will be reindexed to match DataFrame index.\n",
      "  test_neutral = data_testing[data[\"emotion\"]==6]\n"
     ]
    }
   ],
   "source": [
    "train_angry = data_training[data[\"emotion\"]==0]\n",
    "train_disgust = data_training[data[\"emotion\"]==1]\n",
    "train_fear = data_training[data[\"emotion\"]==2]\n",
    "train_happy = data_training[data[\"emotion\"]==3]\n",
    "train_sad = data_training[data[\"emotion\"]==4]\n",
    "train_surprise = data_training[data[\"emotion\"]==5]\n",
    "train_neutral = data_training[data[\"emotion\"]==6]\n",
    "\n",
    "test_angry = data_testing[data[\"emotion\"]==0]\n",
    "test_disgust = data_testing[data[\"emotion\"]==1]\n",
    "test_fear = data_testing[data[\"emotion\"]==2]\n",
    "test_happy = data_testing[data[\"emotion\"]==3]\n",
    "test_sad = data_testing[data[\"emotion\"]==4]\n",
    "test_surprise = data_testing[data[\"emotion\"]==5]\n",
    "test_neutral = data_testing[data[\"emotion\"]==6]"
   ]
  },
  {
   "cell_type": "code",
   "execution_count": 7,
   "metadata": {},
   "outputs": [],
   "source": [
    "def plot_compare_distributions(array1, array2, title1='', title2=''):\n",
    "    df_array1 = pd.DataFrame()\n",
    "    df_array2 = pd.DataFrame()\n",
    "    df_array1['emotion'] = array1.argmax(axis=1)\n",
    "    df_array2['emotion'] = array2.argmax(axis=1)\n",
    "    \n",
    "    fig, axs = plt.subplots(1, 2, figsize=(12, 6), sharey=False)\n",
    "    x = emotions.values()\n",
    "    \n",
    "    y = df_array1['emotion'].value_counts()\n",
    "    keys_missed = list(set(emotions.keys()).difference(set(y.keys())))\n",
    "    for key_missed in keys_missed:\n",
    "        y[key_missed] = 0\n",
    "    axs[0].bar(x, y.sort_index(), color='orange')\n",
    "    axs[0].set_title(title1)\n",
    "    axs[0].grid()\n",
    "    \n",
    "    y = df_array2['emotion'].value_counts()\n",
    "    keys_missed = list(set(emotions.keys()).difference(set(y.keys())))\n",
    "    for key_missed in keys_missed:\n",
    "        y[key_missed] = 0\n",
    "    axs[1].bar(x, y.sort_index())\n",
    "    axs[1].set_title(title2)\n",
    "    axs[1].grid()\n",
    "    \n",
    "    plt.show()"
   ]
  },
  {
   "cell_type": "code",
   "execution_count": null,
   "metadata": {},
   "outputs": [],
   "source": []
  },
  {
   "cell_type": "code",
   "execution_count": 4,
   "metadata": {},
   "outputs": [],
   "source": [
    "import numpy as np\n",
    "\n",
    "def convert2image(row):\n",
    "    pixels = row['pixels']\n",
    "    img = np.array(pixels.split())\n",
    "    img = img.reshape(48,48)\n",
    "    image = np.zeros((48,48))\n",
    "    image[:,:,] = img\n",
    "    return image.astype(np.uint8)"
   ]
  },
  {
   "cell_type": "code",
   "execution_count": 5,
   "metadata": {},
   "outputs": [],
   "source": [
    "import cv2\n",
    "\n",
    "def imwrite_img(data, loc, usage, emotion):\n",
    "    count = 1\n",
    "    for i in range(0, data.shape[0]):\n",
    "        face = data.iloc[i]\n",
    "        img = convert2image(face)\n",
    "        cv2.imwrite(r'../dataset-FER2013/img-dataset/'+\"%s/\"%(loc)+\"%s_%s%d.jpg\"%(emotion,usage,count) +'.jpg',img)\n",
    "        count+=1   "
   ]
  },
  {
   "cell_type": "code",
   "execution_count": 25,
   "metadata": {},
   "outputs": [],
   "source": [
    "import os\n",
    "\n",
    "os.mkdir(\"../dataset-FER2013/img-dataset/training/angry/\")\n",
    "os.mkdir(\"../dataset-FER2013/img-dataset/training/disgust/\")\n",
    "os.mkdir(\"../dataset-FER2013/img-dataset/training/fear/\")\n",
    "os.mkdir(\"../dataset-FER2013/img-dataset/training/happy/\")\n",
    "os.mkdir(\"../dataset-FER2013/img-dataset/training/sad/\")\n",
    "os.mkdir(\"../dataset-FER2013/img-dataset/training/surprise/\")\n",
    "os.mkdir(\"../dataset-FER2013/img-dataset/training/neutral/\")\n",
    "\n",
    "os.mkdir(\"../dataset-FER2013/img-dataset/testing/angry/\")\n",
    "os.mkdir(\"../dataset-FER2013/img-dataset/testing/disgust/\")\n",
    "os.mkdir(\"../dataset-FER2013/img-dataset/testing/fear/\")\n",
    "os.mkdir(\"../dataset-FER2013/img-dataset/testing/happy/\")\n",
    "os.mkdir(\"../dataset-FER2013/img-dataset/testing/sad/\")\n",
    "os.mkdir(\"../dataset-FER2013/img-dataset/testing/surprise/\")\n",
    "os.mkdir(\"../dataset-FER2013/img-dataset/testing/neutral/\")"
   ]
  },
  {
   "cell_type": "code",
   "execution_count": 22,
   "metadata": {},
   "outputs": [],
   "source": [
    "imwrite_img(train_angry, 'training/angry/', \"training\", \"angry\")\n",
    "imwrite_img(train_disgust, 'training/disgust/', \"training\", \"disgust\")\n",
    "imwrite_img(train_fear, 'training/fear/', \"training\", \"fear\")\n",
    "imwrite_img(train_happy, 'training/happy/', \"training\", \"happy\")\n",
    "imwrite_img(train_sad, 'training/sad/', \"training\", \"sad\")\n",
    "imwrite_img(train_surprise, 'training/surprise/', \"training\", \"surprise\")\n",
    "imwrite_img(train_neutral, 'training/neutral/', \"training\", \"neutral\")\n",
    "\n",
    "imwrite_img(test_angry, 'testing/angry/', \"testing\", \"angry\")\n",
    "imwrite_img(test_disgust, 'testing/disgust/', \"testing\", \"disgust\")\n",
    "imwrite_img(test_fear, 'testing/fear/', \"testing\", \"fear\")\n",
    "imwrite_img(test_happy, 'testing/happy/', \"testing\", \"happy\")\n",
    "imwrite_img(test_sad, 'testing/sad/', \"testing\", \"sad\")\n",
    "imwrite_img(test_surprise, 'testing/surprise/', \"testing\", \"surprise\")\n",
    "imwrite_img(test_neutral, 'testing/neutral/', \"testing\", \"neutral\")"
   ]
  }
 ],
 "metadata": {
  "kernelspec": {
   "display_name": "Python 3",
   "language": "python",
   "name": "python3"
  },
  "language_info": {
   "codemirror_mode": {
    "name": "ipython",
    "version": 3
   },
   "file_extension": ".py",
   "mimetype": "text/x-python",
   "name": "python",
   "nbconvert_exporter": "python",
   "pygments_lexer": "ipython3",
   "version": "3.10.5"
  },
  "orig_nbformat": 4
 },
 "nbformat": 4,
 "nbformat_minor": 2
}
